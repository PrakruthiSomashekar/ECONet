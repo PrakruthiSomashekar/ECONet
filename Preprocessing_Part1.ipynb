{
  "nbformat": 4,
  "nbformat_minor": 0,
  "metadata": {
    "colab": {
      "name": "Preprocessing_Part1.ipynb",
      "provenance": [],
      "collapsed_sections": []
    },
    "kernelspec": {
      "name": "python3",
      "display_name": "Python 3"
    },
    "language_info": {
      "name": "python"
    }
  },
  "cells": [
    {
      "cell_type": "code",
      "execution_count": 1,
      "metadata": {
        "colab": {
          "base_uri": "https://localhost:8080/"
        },
        "id": "OaCm9A-qO5ut",
        "outputId": "199ddd4e-7697-4c8f-c231-32b9f0fc82d0"
      },
      "outputs": [
        {
          "output_type": "stream",
          "name": "stdout",
          "text": [
            "Mounted at /content/drive\n"
          ]
        }
      ],
      "source": [
        "from google.colab import drive\n",
        "drive.mount('/content/drive')"
      ]
    },
    {
      "cell_type": "code",
      "source": [
        "\n",
        "import numpy as np\n",
        "import pandas as pd\n",
        "import matplotlib.pyplot as plt\n",
        "\n",
        "df = pd.read_csv(\"/content/drive/MyDrive/ALDA/ECONet/train.csv\")\n",
        "Y = df.target\n"
      ],
      "metadata": {
        "id": "zzad6va2PLJt"
      },
      "execution_count": 2,
      "outputs": []
    },
    {
      "cell_type": "code",
      "source": [
        "import seaborn as sns\n",
        "\n",
        "sns.countplot(df['target'])\n",
        "Y.value_counts()"
      ],
      "metadata": {
        "colab": {
          "base_uri": "https://localhost:8080/",
          "height": 395
        },
        "id": "Q9bHUiGOPW2b",
        "outputId": "8ae2a386-8143-4e82-f376-04b0a0a1361d"
      },
      "execution_count": 3,
      "outputs": [
        {
          "output_type": "stream",
          "name": "stderr",
          "text": [
            "/usr/local/lib/python3.7/dist-packages/seaborn/_decorators.py:43: FutureWarning: Pass the following variable as a keyword arg: x. From version 0.12, the only valid positional argument will be `data`, and passing other arguments without an explicit keyword will result in an error or misinterpretation.\n",
            "  FutureWarning\n"
          ]
        },
        {
          "output_type": "execute_result",
          "data": {
            "text/plain": [
              "False    6358102\n",
              "True      235172\n",
              "Name: target, dtype: int64"
            ]
          },
          "metadata": {},
          "execution_count": 3
        },
        {
          "output_type": "display_data",
          "data": {
            "text/plain": [
              "<Figure size 432x288 with 1 Axes>"
            ],
            "image/png": "[encoded data removed]"
          },
          "metadata": {
            "needs_background": "light"
          }
        }
      ]
    },
    {
      "cell_type": "code",
      "source": [
        "from sklearn.utils import resample\n",
        "\n",
        "#create two different dataframe of majority and minority class \n",
        "df_majority = df.loc[(df['target']==False)]\n",
        "df_minority = df.loc[(df['target']==True)] \n",
        "\n",
        "# upsample minority class\n",
        "df_minority_upsampled = resample(df_minority, replace=True, n_samples=6358102, random_state=42)\n",
        "\n",
        "# Combine majority class with upsampled minority class\n",
        "df_upsampled = pd.concat([df_minority_upsampled, df_majority])\n",
        "\n",
        "sns.countplot(df_upsampled['target'])\n",
        "print(df_upsampled['target'].value_counts())"
      ],
      "metadata": {
        "colab": {
          "base_uri": "https://localhost:8080/"
        },
        "id": "mldQWU4aPZ-a",
        "outputId": "4e1543b8-8760-432f-dbda-d11226d4cf8b"
      },
      "execution_count": 4,
      "outputs": [
        {
          "output_type": "stream",
          "name": "stdout",
          "text": [
            "True     6358102\n",
            "False    6358102\n",
            "Name: target, dtype: int64\n"
          ]
        }
      ]
    },
    {
      "cell_type": "code",
      "source": [
        "from sklearn.model_selection import train_test_split\n",
        "from sklearn.ensemble import RandomForestClassifier\n",
        "\n",
        "X_train, X_test, y_train, y_test = train_test_split(df_upsampled.drop(['Station','Ob','measure','target'], axis=1), df_upsampled.target, train_size=0.1, random_state=123)\n",
        "classifier = RandomForestClassifier()\n",
        "classifier.fit(X_train, y_train)\n",
        "\n",
        "pred_train = classifier.predict(X_train)\n",
        "pred_test = classifier.predict(X_test)"
      ],
      "metadata": {
        "id": "SufHAgnGPnT9"
      },
      "execution_count": 12,
      "outputs": []
    },
    {
      "cell_type": "code",
      "source": [
        "from sklearn.metrics import accuracy_score\n",
        "from sklearn.metrics import classification_report\n",
        "from sklearn.metrics import confusion_matrix\n",
        "\n",
        "print('Accuracy for training data')\n",
        "print(accuracy_score(y_train, pred_train))\n",
        "print('Accuracy for test data')\n",
        "print(accuracy_score(y_test, pred_test))\n",
        "print()\n",
        "print('Confusion matrix for test data')\n",
        "print(confusion_matrix(y_test, pred_test))\n",
        "print()\n",
        "print('Classification report for test data')\n",
        "print(classification_report(y_test, pred_test))\n"
      ],
      "metadata": {
        "colab": {
          "base_uri": "https://localhost:8080/"
        },
        "id": "LEw8SCBTROjK",
        "outputId": "60e695aa-23a0-4407-ce6e-efb0ad25bf80"
      },
      "execution_count": 14,
      "outputs": [
        {
          "output_type": "stream",
          "name": "stdout",
          "text": [
            "Accuracy for training data\n",
            "0.9602223934823296\n",
            "Accuracy for test data\n",
            "0.9560127305632079\n",
            "\n",
            "Confusion matrix for test data\n",
            "[[5370762  352033]\n",
            " [ 151383 5570406]]\n",
            "\n",
            "Classification report for test data\n",
            "              precision    recall  f1-score   support\n",
            "\n",
            "       False       0.97      0.94      0.96   5722795\n",
            "        True       0.94      0.97      0.96   5721789\n",
            "\n",
            "    accuracy                           0.96  11444584\n",
            "   macro avg       0.96      0.96      0.96  11444584\n",
            "weighted avg       0.96      0.96      0.96  11444584\n",
            "\n"
          ]
        }
      ]
    },
    {
      "cell_type": "code",
      "source": [
        "from sklearn.metrics import precision_recall_curve\n",
        "from sklearn.metrics import f1_score\n",
        "from sklearn.metrics import auc\n",
        "from matplotlib import pyplot\n",
        "\n",
        "# predict probabilities\n",
        "lr_probs = classifier.predict_proba(X_test)\n",
        "# keep probabilities for the positive outcome only\n",
        "lr_probs = lr_probs[:, 1]\n",
        "\n",
        "lr_precision, lr_recall, _ = precision_recall_curve(y_test, lr_probs)\n",
        "lr_f1, lr_auc = f1_score(y_test, pred_test), auc(lr_recall, lr_precision)\n",
        "# summarize scores\n",
        "print('Logistic: f1=%.3f auc=%.3f' % (lr_f1, lr_auc))\n",
        "# plot the precision-recall curves\n",
        "no_skill = len(y_test[y_test==1]) / len(y_test)\n",
        "pyplot.plot([0, 1], [no_skill, no_skill], linestyle='--', label='No Skill')\n",
        "pyplot.plot(lr_recall, lr_precision, marker='.', label='Logistic')\n",
        "# axis labels\n",
        "pyplot.xlabel('Recall')\n",
        "pyplot.ylabel('Precision')\n",
        "# show the legend\n",
        "pyplot.legend()\n",
        "# show the plot\n",
        "pyplot.show()"
      ],
      "metadata": {
        "colab": {
          "base_uri": "https://localhost:8080/",
          "height": 296
        },
        "id": "Dzik2kqrXCp0",
        "outputId": "d6947380-f96f-407c-f58f-7d05c8dc7158"
      },
      "execution_count": 15,
      "outputs": [
        {
          "output_type": "stream",
          "name": "stdout",
          "text": [
            "Logistic: f1=0.957 auc=0.988\n"
          ]
        },
        {
          "output_type": "display_data",
          "data": {
            "text/plain": [
              "<Figure size 432x288 with 1 Axes>"
            ],
            "image/png": "[encoded data removed]"
          },
          "metadata": {
            "needs_background": "light"
          }
        }
      ]
    },
    {
      "cell_type": "code",
      "source": [
        "# downsample minority class\n",
        "df_majority_downsampled = resample(df_majority, replace=True, n_samples=235172, random_state=42)\n",
        "\n",
        "# Combine majority class with upsampled minority class\n",
        "df_downsampled = pd.concat([df_majority_downsampled, df_minority])\n",
        "\n",
        "sns.countplot(df_downsampled['target'])\n",
        "print(df_downsampled['target'].value_counts())"
      ],
      "metadata": {
        "colab": {
          "base_uri": "https://localhost:8080/"
        },
        "id": "nQN51bc0ZjwG",
        "outputId": "b88fe38e-7e18-44e7-ae64-5f83cddff970"
      },
      "execution_count": 16,
      "outputs": [
        {
          "output_type": "stream",
          "name": "stdout",
          "text": [
            "False    235172\n",
            "True     235172\n",
            "Name: target, dtype: int64\n"
          ]
        }
      ]
    },
    {
      "cell_type": "code",
      "source": [
        "X_train_down, X_test_down, y_train_down, y_test_down = train_test_split(df_downsampled.drop(['Station','Ob','measure','target'], axis=1), df_downsampled.target, train_size=0.1, random_state=123)\n",
        "classifier.fit(X_train_down, y_train_down)\n",
        "\n",
        "pred_down_train = classifier.predict(X_train_down)\n",
        "pred_down_test = classifier.predict(X_test_down)"
      ],
      "metadata": {
        "id": "ci9khPmoaHPM"
      },
      "execution_count": 17,
      "outputs": []
    },
    {
      "cell_type": "code",
      "source": [
        "# metrics for undersampling\n",
        "\n",
        "print('Accuracy for training data')\n",
        "print(accuracy_score(y_train_down, pred_down_train))\n",
        "print('Accuracy for test data')\n",
        "print(accuracy_score(y_test_down, pred_down_test))\n",
        "print()\n",
        "print('Confusion matrix for test data')\n",
        "print(confusion_matrix(y_test_down, pred_down_test))\n",
        "print()\n",
        "print('Classification report for test data')\n",
        "print(classification_report(y_test_down, pred_down_test))"
      ],
      "metadata": {
        "colab": {
          "base_uri": "https://localhost:8080/"
        },
        "id": "ODAmFbPnapDE",
        "outputId": "485f8ed8-19a8-4383-e311-2d017df35299"
      },
      "execution_count": 18,
      "outputs": [
        {
          "output_type": "stream",
          "name": "stdout",
          "text": [
            "Accuracy for training data\n",
            "0.9685334013692223\n",
            "Accuracy for test data\n",
            "0.9393753986440198\n",
            "\n",
            "Confusion matrix for test data\n",
            "[[196574  15113]\n",
            " [ 10550 201073]]\n",
            "\n",
            "Classification report for test data\n",
            "              precision    recall  f1-score   support\n",
            "\n",
            "       False       0.95      0.93      0.94    211687\n",
            "        True       0.93      0.95      0.94    211623\n",
            "\n",
            "    accuracy                           0.94    423310\n",
            "   macro avg       0.94      0.94      0.94    423310\n",
            "weighted avg       0.94      0.94      0.94    423310\n",
            "\n"
          ]
        }
      ]
    },
    {
      "cell_type": "code",
      "source": [
        "# predict probabilities\n",
        "lr_probs = classifier.predict_proba(X_test_down)\n",
        "# keep probabilities for the positive outcome only\n",
        "lr_probs = lr_probs[:, 1]\n",
        "\n",
        "lr_precision, lr_recall, _ = precision_recall_curve(y_test_down, lr_probs)\n",
        "lr_f1, lr_auc = f1_score(y_test_down, pred_down_test), auc(lr_recall, lr_precision)\n",
        "# summarize scores\n",
        "print('Logistics for UnderSampling: f1=%.3f auc=%.3f' % (lr_f1, lr_auc))\n",
        "# plot the precision-recall curves\n",
        "no_skill = len(y_test_down[y_test_down==1]) / len(y_test_down)\n",
        "pyplot.plot([0, 1], [no_skill, no_skill], linestyle='--', label='No Skill')\n",
        "pyplot.plot(lr_recall, lr_precision, marker='.', label='Logistic')\n",
        "# axis labels\n",
        "pyplot.xlabel('Recall')\n",
        "pyplot.ylabel('Precision')\n",
        "# show the legend\n",
        "pyplot.legend()\n",
        "# show the plot\n",
        "pyplot.show()"
      ],
      "metadata": {
        "colab": {
          "base_uri": "https://localhost:8080/",
          "height": 296
        },
        "id": "yYmTmNnCa73s",
        "outputId": "1d3c264d-2cdd-431e-c2aa-1f1395fca725"
      },
      "execution_count": 20,
      "outputs": [
        {
          "output_type": "stream",
          "name": "stdout",
          "text": [
            "Logistics for UnderSampling: f1=0.940 auc=0.982\n"
          ]
        },
        {
          "output_type": "display_data",
          "data": {
            "text/plain": [
              "<Figure size 432x288 with 1 Axes>"
            ],
            "image/png": "[encoded data removed]"
          },
          "metadata": {
            "needs_background": "light"
          }
        }
      ]
    }
  ]
}