{
  "nbformat": 4,
  "nbformat_minor": 0,
  "metadata": {
    "colab": {
      "name": "Oversampling_RandomForest.ipynb",
      "provenance": []
    },
    "kernelspec": {
      "name": "python3",
      "display_name": "Python 3"
    },
    "language_info": {
      "name": "python"
    }
  },
  "cells": [
    {
      "cell_type": "code",
      "execution_count": 1,
      "metadata": {
        "colab": {
          "base_uri": "https://localhost:8080/"
        },
        "id": "AaZVGcVruMV5",
        "outputId": "352a49cd-8c72-4d6d-97d1-8fef322b5dc1"
      },
      "outputs": [
        {
          "output_type": "stream",
          "name": "stdout",
          "text": [
            "Mounted at /content/drive\n"
          ]
        }
      ],
      "source": [
        "from google.colab import drive\n",
        "drive.mount('/content/drive')"
      ]
    },
    {
      "cell_type": "code",
      "source": [
        "import numpy as np\n",
        "import pandas as pd\n",
        "import matplotlib.pyplot as plt\n",
        "\n",
        "df = pd.read_csv(\"/content/drive/MyDrive/ALDA/ECONet/train.csv\")\n",
        "Y = df.target"
      ],
      "metadata": {
        "id": "5l6gkBGOvGOI"
      },
      "execution_count": 2,
      "outputs": []
    },
    {
      "cell_type": "code",
      "source": [
        "import seaborn as sns\n",
        "\n",
        "sns.countplot(df['target'])\n",
        "Y.value_counts()"
      ],
      "metadata": {
        "colab": {
          "base_uri": "https://localhost:8080/",
          "height": 395
        },
        "id": "tgyHRFbNvTua",
        "outputId": "51b49bab-e54d-4efe-ea67-d74577c17c4f"
      },
      "execution_count": 3,
      "outputs": [
        {
          "output_type": "stream",
          "name": "stderr",
          "text": [
            "/usr/local/lib/python3.7/dist-packages/seaborn/_decorators.py:43: FutureWarning: Pass the following variable as a keyword arg: x. From version 0.12, the only valid positional argument will be `data`, and passing other arguments without an explicit keyword will result in an error or misinterpretation.\n",
            "  FutureWarning\n"
          ]
        },
        {
          "output_type": "execute_result",
          "data": {
            "text/plain": [
              "False    6358102\n",
              "True      235172\n",
              "Name: target, dtype: int64"
            ]
          },
          "metadata": {},
          "execution_count": 3
        },
        {
          "output_type": "display_data",
          "data": {
            "text/plain": [
              "<Figure size 432x288 with 1 Axes>"
            ],
            "image/png": "[encoded data removed]"
          },
          "metadata": {
            "needs_background": "light"
          }
        }
      ]
    },
    {
      "cell_type": "code",
      "source": [
        "from datetime import datetime\n",
        "\n",
        "df[\"Ob\"] = df[\"Ob\"].apply(lambda x: datetime.strptime(x,\"%m/%d/%Y %M:%S\"))\n",
        "df['year'] = df['Ob'].dt.year\n",
        "df['month'] = df['Ob'].dt.month\n",
        "df['day'] = df['Ob'].dt.day\n",
        "df['minute'] = df['Ob'].dt.minute\n",
        "df['seconds'] = df['Ob'].dt.second"
      ],
      "metadata": {
        "id": "pSH3aKOEvcJz"
      },
      "execution_count": 4,
      "outputs": []
    },
    {
      "cell_type": "code",
      "source": [
        "from sklearn.utils import resample\n",
        "from sklearn.model_selection import train_test_split\n",
        "\n",
        "X_train, X_test, y_train, y_test = train_test_split(df.drop(['Station', 'Ob', 'measure','target'], axis=1), Y, train_size=0.75, shuffle=True, random_state=123)\n",
        "\n",
        "# Split the dataset into test and train"
      ],
      "metadata": {
        "id": "tG9LkB0AvtEJ"
      },
      "execution_count": 5,
      "outputs": []
    },
    {
      "cell_type": "code",
      "source": [
        "df_majority = y_train==False\n",
        "df_minority = y_train==True\n",
        "\n",
        "# upsample minority class\n",
        "df_minority_upsampled = resample(df_minority, replace=True, n_samples=len(df_majority), random_state=42)\n",
        "\n",
        "# Combine majority class with upsampled minority class\n",
        "df_upsampled = pd.concat([df_minority_upsampled, df_majority])\n",
        "\n",
        "sns.countplot(df_upsampled).set_title(\"ECONet data distribution after Resampling\")\n",
        "print(df_upsampled['target'].value_counts())"
      ],
      "metadata": {
        "colab": {
          "base_uri": "https://localhost:8080/",
          "height": 366
        },
        "id": "nY3u_qw4wfYT",
        "outputId": "8cf111dc-6f88-412e-ba16-ad0429f27fa6"
      },
      "execution_count": 6,
      "outputs": [
        {
          "output_type": "stream",
          "name": "stderr",
          "text": [
            "/usr/local/lib/python3.7/dist-packages/seaborn/_decorators.py:43: FutureWarning: Pass the following variable as a keyword arg: x. From version 0.12, the only valid positional argument will be `data`, and passing other arguments without an explicit keyword will result in an error or misinterpretation.\n",
            "  FutureWarning\n"
          ]
        },
        {
          "output_type": "execute_result",
          "data": {
            "text/plain": [
              "Text(0.5, 1.0, 'ECONet data distribution after Resampling')"
            ]
          },
          "metadata": {},
          "execution_count": 6
        },
        {
          "output_type": "display_data",
          "data": {
            "text/plain": [
              "<Figure size 432x288 with 1 Axes>"
            ],
            "image/png": "[encoded data removed]"
          },
          "metadata": {
            "needs_background": "light"
          }
        }
      ]
    },
    {
      "cell_type": "code",
      "source": [
        "from sklearn.model_selection import train_test_split\n",
        "from sklearn.preprocessing import MinMaxScaler\n",
        "from sklearn.ensemble import RandomForestClassifier\n",
        "from sklearn.linear_model import LogisticRegression\n",
        "\n",
        "norm = MinMaxScaler().fit(X_train)\n",
        "X_train_norm = norm.transform(X_train)\n",
        "X_test_norm = norm.transform(X_test)\n",
        "\n",
        "#classifier = LogisticRegression(solver='liblinear')\n",
        "classifier = RandomForestClassifier()\n",
        "classifier.fit(X_train_norm, y_train)\n",
        "\n",
        "pred_train = classifier.predict(X_train_norm)\n",
        "pred_test = classifier.predict(X_test_norm)"
      ],
      "metadata": {
        "id": "vw89Ac1ywtkw"
      },
      "execution_count": 7,
      "outputs": []
    },
    {
      "cell_type": "code",
      "source": [
        "from sklearn.metrics import accuracy_score\n",
        "from sklearn.metrics import classification_report\n",
        "from sklearn.metrics import confusion_matrix\n",
        "\n",
        "print('Accuracy for training data')\n",
        "print(accuracy_score(y_train, pred_train))\n",
        "print('Accuracy for test data')\n",
        "print(accuracy_score(y_test, pred_test))\n",
        "print()\n",
        "print('Confusion matrix for test data')\n",
        "print(confusion_matrix(y_test, pred_test))\n",
        "print()\n",
        "print('Classification report for test data')\n",
        "print(classification_report(y_test, pred_test))"
      ],
      "metadata": {
        "colab": {
          "base_uri": "https://localhost:8080/"
        },
        "id": "NpzlW4pWxCXV",
        "outputId": "ba263630-8462-4486-d75a-70a38ae8129c"
      },
      "execution_count": 8,
      "outputs": [
        {
          "output_type": "stream",
          "name": "stdout",
          "text": [
            "Accuracy for training data\n",
            "0.9997029295514317\n",
            "Accuracy for test data\n",
            "0.9975447713701049\n",
            "\n",
            "Confusion matrix for test data\n",
            "[[1588309    1188]\n",
            " [   2859   55963]]\n",
            "\n",
            "Classification report for test data\n",
            "              precision    recall  f1-score   support\n",
            "\n",
            "       False       1.00      1.00      1.00   1589497\n",
            "        True       0.98      0.95      0.97     58822\n",
            "\n",
            "    accuracy                           1.00   1648319\n",
            "   macro avg       0.99      0.98      0.98   1648319\n",
            "weighted avg       1.00      1.00      1.00   1648319\n",
            "\n"
          ]
        }
      ]
    },
    {
      "cell_type": "code",
      "source": [
        "from sklearn.metrics import precision_recall_curve\n",
        "from sklearn.metrics import f1_score\n",
        "from sklearn.metrics import auc\n",
        "from matplotlib import pyplot\n",
        "\n",
        "# predict probabilities\n",
        "lr_probs = classifier.predict_proba(X_test_norm)\n",
        "# keep probabilities for the positive outcome only\n",
        "lr_probs = lr_probs[:, 1]\n",
        "\n",
        "lr_precision, lr_recall, _ = precision_recall_curve(y_test, lr_probs)\n",
        "lr_f1, lr_auc = f1_score(y_test, pred_test), auc(lr_recall, lr_precision)\n",
        "# summarize scores\n",
        "print('Logistic: f1=%.3f auc=%.3f' % (lr_f1, lr_auc))\n",
        "# plot the precision-recall curves\n",
        "no_skill = len(y_test[y_test==1]) / len(y_test)\n",
        "pyplot.plot([0, 1], [no_skill, no_skill], linestyle='--', label='Baseline')\n",
        "pyplot.plot(lr_recall, lr_precision, marker='.', label='Oversampling and Random Forest')\n",
        "# axis labels\n",
        "pyplot.xlabel('Recall')\n",
        "pyplot.ylabel('Precision')\n",
        "pyplot.title('Area Under the Precision-Recall Curve')\n",
        "# show the legend\n",
        "pyplot.legend()\n",
        "# show the plot\n",
        "pyplot.show()"
      ],
      "metadata": {
        "colab": {
          "base_uri": "https://localhost:8080/",
          "height": 312
        },
        "id": "Bws8_WQfxDWj",
        "outputId": "5e74c9e0-4c3a-48e8-87ba-18bc6302ceed"
      },
      "execution_count": 9,
      "outputs": [
        {
          "output_type": "stream",
          "name": "stdout",
          "text": [
            "Logistic: f1=0.965 auc=0.993\n"
          ]
        },
        {
          "output_type": "display_data",
          "data": {
            "text/plain": [
              "<Figure size 432x288 with 1 Axes>"
            ],
            "image/png": "[encoded data removed]"
          },
          "metadata": {
            "needs_background": "light"
          }
        }
      ]
    }
  ]
}