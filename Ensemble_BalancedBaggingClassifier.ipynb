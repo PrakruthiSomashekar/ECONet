{
  "cells": [
    {
      "cell_type": "code",
      "execution_count": null,
      "metadata": {
        "colab": {
          "base_uri": "https://localhost:8080/"
        },
        "id": "vGhwOVBLtPLX",
        "outputId": "5ee3fe08-900c-4cd4-a02c-a1e2c1ca3320"
      },
      "outputs": [
        {
          "output_type": "stream",
          "name": "stdout",
          "text": [
            "Mounted at /content/drive\n"
          ]
        }
      ],
      "source": [
        "from google.colab import drive\n",
        "drive.mount('/content/drive')\n"
      ]
    },
    {
      "cell_type": "code",
      "execution_count": null,
      "metadata": {
        "colab": {
          "base_uri": "https://localhost:8080/"
        },
        "id": "TReS1galhyKc",
        "outputId": "c7df30df-c95d-41e3-9205-f1cead5cdfc4"
      },
      "outputs": [
        {
          "output_type": "stream",
          "name": "stdout",
          "text": [
            "Collecting scikit-learn==1.0\n",
            "  Downloading scikit_learn-1.0-cp37-cp37m-manylinux_2_12_x86_64.manylinux2010_x86_64.whl (23.1 MB)\n",
            "\u001b[K     |████████████████████████████████| 23.1 MB 1.4 MB/s \n",
            "\u001b[?25hRequirement already satisfied: scipy>=1.1.0 in /usr/local/lib/python3.7/dist-packages (from scikit-learn==1.0) (1.4.1)\n",
            "Requirement already satisfied: numpy>=1.14.6 in /usr/local/lib/python3.7/dist-packages (from scikit-learn==1.0) (1.21.6)\n",
            "Requirement already satisfied: threadpoolctl>=2.0.0 in /usr/local/lib/python3.7/dist-packages (from scikit-learn==1.0) (3.1.0)\n",
            "Requirement already satisfied: joblib>=0.11 in /usr/local/lib/python3.7/dist-packages (from scikit-learn==1.0) (1.1.0)\n",
            "Installing collected packages: scikit-learn\n",
            "  Attempting uninstall: scikit-learn\n",
            "    Found existing installation: scikit-learn 1.0.2\n",
            "    Uninstalling scikit-learn-1.0.2:\n",
            "      Successfully uninstalled scikit-learn-1.0.2\n",
            "Successfully installed scikit-learn-1.0\n"
          ]
        }
      ],
      "source": [
        "import numpy as np\n",
        "import pandas as pd\n",
        "import matplotlib.pyplot as plt\n",
        "!pip install -U scikit-learn==1.0"
      ]
    },
    {
      "cell_type": "code",
      "execution_count": null,
      "metadata": {
        "colab": {
          "base_uri": "https://localhost:8080/"
        },
        "id": "yLX73I_nidbs",
        "outputId": "449b11d0-20ce-4920-dace-22d9352bb8bf"
      },
      "outputs": [
        {
          "output_type": "execute_result",
          "data": {
            "text/plain": [
              "0          False\n",
              "1          False\n",
              "2          False\n",
              "3          False\n",
              "4          False\n",
              "           ...  \n",
              "6593269    False\n",
              "6593270    False\n",
              "6593271    False\n",
              "6593272    False\n",
              "6593273    False\n",
              "Name: target, Length: 6593274, dtype: bool"
            ]
          },
          "metadata": {},
          "execution_count": 4
        }
      ],
      "source": [
        "train_df = pd.read_csv(\"/content/drive/MyDrive/NSCU/ALDA/train.csv\")\n",
        "\n",
        "X = train_df.drop(['target'], axis=1)\n",
        "y = train_df.target\n",
        "\n",
        "#train_df.head()\n",
        "y"
      ]
    },
    {
      "cell_type": "code",
      "execution_count": null,
      "metadata": {
        "id": "hMFBEvSoBzFe"
      },
      "outputs": [],
      "source": [
        "from datetime import datetime\n",
        "\n",
        "train_df[\"Ob\"] = train_df[\"Ob\"].apply(lambda x: datetime.strptime(x,\"%m/%d/%Y %M:%S\"))\n",
        "train_df['year'] = train_df['Ob'].dt.year\n",
        "train_df['month'] = train_df['Ob'].dt.month\n",
        "train_df['day'] = train_df['Ob'].dt.day\n",
        "train_df['minute'] = train_df['Ob'].dt.minute\n",
        "train_df['seconds'] = train_df['Ob'].dt.second\n"
      ]
    },
    {
      "cell_type": "code",
      "execution_count": null,
      "metadata": {
        "colab": {
          "base_uri": "https://localhost:8080/",
          "height": 399
        },
        "id": "WPVFu8k9k0v-",
        "outputId": "a809f45f-d035-41dd-ff86-df3c0e90e2d2"
      },
      "outputs": [
        {
          "output_type": "stream",
          "name": "stderr",
          "text": [
            "/usr/local/lib/python3.7/dist-packages/seaborn/_decorators.py:43: FutureWarning: Pass the following variable as a keyword arg: x. From version 0.12, the only valid positional argument will be `data`, and passing other arguments without an explicit keyword will result in an error or misinterpretation.\n",
            "  FutureWarning\n"
          ]
        },
        {
          "output_type": "execute_result",
          "data": {
            "text/plain": [
              "False    6358102\n",
              "True      235172\n",
              "Name: target, dtype: int64"
            ]
          },
          "metadata": {},
          "execution_count": 6
        },
        {
          "output_type": "display_data",
          "data": {
            "text/plain": [
              "<Figure size 432x288 with 1 Axes>"
            ],
            "image/png": "[encoded data removed]"
          },
          "metadata": {
            "needs_background": "light"
          }
        }
      ],
      "source": [
        "import seaborn as sns\n",
        "\n",
        "sns.countplot(train_df['target'])\n",
        "y.value_counts()"
      ]
    },
    {
      "cell_type": "code",
      "execution_count": null,
      "metadata": {
        "id": "Lh3mfdmHl_aK"
      },
      "outputs": [],
      "source": [
        "from imblearn.ensemble import BalancedBaggingClassifier\n",
        "from sklearn.model_selection import train_test_split\n",
        "\n",
        "X_train, X_test, y_train, y_test = train_test_split(train_df.drop(['Station','Ob','measure','target'], axis=1), y, train_size=0.7, random_state=123)"
      ]
    },
    {
      "cell_type": "code",
      "execution_count": null,
      "metadata": {
        "id": "Gi9r-znXy9jH"
      },
      "outputs": [],
      "source": [
        "bbc = BalancedBaggingClassifier(random_state=0, sampling_strategy='auto', n_estimators=100)\n",
        "\n",
        "#for x in X_train.columns:\n",
        "#  print(x)"
      ]
    },
    {
      "cell_type": "code",
      "execution_count": null,
      "metadata": {
        "colab": {
          "base_uri": "https://localhost:8080/"
        },
        "id": "8vfvkQ7Kz9NO",
        "outputId": "fbd7d116-bd4c-4ff7-c684-b3f75ec1affd"
      },
      "outputs": [
        {
          "output_type": "execute_result",
          "data": {
            "text/plain": [
              "BalancedBaggingClassifier(n_estimators=100, random_state=0)"
            ]
          },
          "metadata": {},
          "execution_count": 9
        }
      ],
      "source": [
        "bbc.fit(X_train, y_train)"
      ]
    },
    {
      "cell_type": "code",
      "execution_count": null,
      "metadata": {
        "id": "DwDKKDEl22mR"
      },
      "outputs": [],
      "source": [
        "y_pred_train = bbc.predict(X_train)\n",
        "y_pred_test = bbc.predict(X_test)"
      ]
    },
    {
      "cell_type": "code",
      "source": [
        ""
      ],
      "metadata": {
        "id": "wn0uDAn_9GN6"
      },
      "execution_count": null,
      "outputs": []
    },
    {
      "cell_type": "code",
      "execution_count": null,
      "metadata": {
        "colab": {
          "base_uri": "https://localhost:8080/"
        },
        "id": "HZkOqVAm3ZSi",
        "outputId": "bba0104f-5b0b-4d52-f1b8-b75b0bd081c0"
      },
      "outputs": [
        {
          "output_type": "stream",
          "name": "stdout",
          "text": [
            "Accuracy for training data:\n",
            "0.992943673540845\n",
            "Accuracy for test data:\n",
            "0.9921859793537153\n",
            "\n",
            "Confusion matrix for test data:\n",
            "[[1892454   14848]\n",
            " [    608   70073]]\n",
            "\n",
            "Classification report for test data:\n",
            "              precision    recall  f1-score   support\n",
            "\n",
            "       False       1.00      0.99      1.00   1907302\n",
            "        True       0.83      0.99      0.90     70681\n",
            "\n",
            "    accuracy                           0.99   1977983\n",
            "   macro avg       0.91      0.99      0.95   1977983\n",
            "weighted avg       0.99      0.99      0.99   1977983\n",
            "\n"
          ]
        }
      ],
      "source": [
        "from sklearn.metrics import accuracy_score\n",
        "from sklearn.metrics import classification_report\n",
        "from sklearn.metrics import confusion_matrix\n",
        "\n",
        "print('Accuracy for training data:')\n",
        "print(accuracy_score(y_train, y_pred_train))\n",
        "\n",
        "print('Accuracy for test data:')\n",
        "print(accuracy_score(y_test, y_pred_test))\n",
        "\n",
        "print()\n",
        "\n",
        "print('Confusion matrix for test data:')\n",
        "print(confusion_matrix(y_test, y_pred_test))\n",
        "\n",
        "print()\n",
        "\n",
        "print('Classification report for test data:')\n",
        "print(classification_report(y_test, y_pred_test))"
      ]
    },
    {
      "cell_type": "code",
      "execution_count": null,
      "metadata": {
        "colab": {
          "base_uri": "https://localhost:8080/",
          "height": 313
        },
        "id": "sRTdxb1ldJyl",
        "outputId": "abbd1977-f376-4b03-969e-0776c7736a84"
      },
      "outputs": [
        {
          "output_type": "stream",
          "name": "stdout",
          "text": [
            "Logistic: f1=0.901 auc=0.991\n"
          ]
        },
        {
          "output_type": "display_data",
          "data": {
            "text/plain": [
              "<Figure size 432x288 with 1 Axes>"
            ],
            "image/png": "[encoded data removed]"
          },
          "metadata": {
            "needs_background": "light"
          }
        }
      ],
      "source": [
        "from sklearn.metrics import precision_recall_curve\n",
        "from sklearn.metrics import f1_score\n",
        "from sklearn.metrics import auc\n",
        "from matplotlib import pyplot\n",
        "\n",
        "# predict probabilities\n",
        "lr_probs = bbc.predict_proba(X_test)\n",
        "# keep probabilities for the positive outcome only\n",
        "lr_probs = lr_probs[:, 1]\n",
        "\n",
        "lr_precision, lr_recall, _ = precision_recall_curve(y_test, lr_probs)\n",
        "lr_f1, lr_auc = f1_score(y_test, y_pred_test), auc(lr_recall, lr_precision)\n",
        "\n",
        "# summarize scores\n",
        "print('Logistic: f1=%.3f auc=%.3f' % (lr_f1, lr_auc))\n",
        "\n",
        "# plot the precision-recall curves\n",
        "no_skill = len(y_test[y_test==1]) / len(y_test)\n",
        "pyplot.plot([0, 1], [no_skill, no_skill], linestyle='--', label='Baseline')\n",
        "pyplot.plot(lr_recall, lr_precision, marker='.', label='BalancedBaggingClassifier')\n",
        "\n",
        "# axis labels\n",
        "pyplot.xlabel('Recall')\n",
        "pyplot.ylabel('Precision')\n",
        "pyplot.title('Area Under the Precision-Recall Curve')\n",
        "# show the legend\n",
        "pyplot.legend()\n",
        "# show the plot\n",
        "pyplot.show()"
      ]
    },
    {
      "cell_type": "code",
      "execution_count": null,
      "metadata": {
        "id": "fHxHKtJfgvye"
      },
      "outputs": [],
      "source": [
        "#Hyperparameter tuning"
      ]
    },
    {
      "cell_type": "code",
      "execution_count": null,
      "metadata": {
        "id": "-oziAPabFR3Z"
      },
      "outputs": [],
      "source": [
        "# from sklearn.model_selection import GridSearchCV\n",
        "# parameters = {'n_estimators':[500, 1000]}\n",
        "\n",
        "# bbc = BalancedBaggingClassifier(random_state=0, sampling_strategy='auto')\n",
        "# bbc = GridSearchCV(bbc,parameters)\n",
        "\n",
        "# bbc.fit(X_train, y_train)\n",
        "\n",
        "# print(bbc.best_estimator_)"
      ]
    },
    {
      "cell_type": "code",
      "source": [
        "#The above code cell took 13+ hours to run and produce an output, n_estimators = 1000 was concluded as the best estimator "
      ],
      "metadata": {
        "id": "SM4m27CD9dJZ"
      },
      "execution_count": null,
      "outputs": []
    },
    {
      "cell_type": "code",
      "source": [
        "bbc = BalancedBaggingClassifier(random_state=0, sampling_strategy='auto', n_estimators=1000)\n",
        "bbc.fit(X_train, y_train)"
      ],
      "metadata": {
        "colab": {
          "base_uri": "https://localhost:8080/"
        },
        "id": "mxq5ajlA_uT4",
        "outputId": "42fc06fc-284a-463c-a02a-158ff0f66abf"
      },
      "execution_count": null,
      "outputs": [
        {
          "output_type": "execute_result",
          "data": {
            "text/plain": [
              "BalancedBaggingClassifier(n_estimators=1000, random_state=0)"
            ]
          },
          "metadata": {},
          "execution_count": 16
        }
      ]
    },
    {
      "cell_type": "code",
      "source": [
        "y_pred_train = bbc.predict(X_train)\n",
        "y_pred_test = bbc.predict(X_test)"
      ],
      "metadata": {
        "id": "w8Unh3co_0F9"
      },
      "execution_count": null,
      "outputs": []
    },
    {
      "cell_type": "code",
      "source": [
        "from sklearn.metrics import accuracy_score\n",
        "from sklearn.metrics import classification_report\n",
        "from sklearn.metrics import confusion_matrix\n",
        "\n",
        "print('Accuracy for training data:')\n",
        "print(accuracy_score(y_train, y_pred_train))\n",
        "\n",
        "print('Accuracy for test data:')\n",
        "print(accuracy_score(y_test, y_pred_test))\n",
        "\n",
        "print()\n",
        "\n",
        "print('Confusion matrix for test data:')\n",
        "print(confusion_matrix(y_test, y_pred_test))\n",
        "\n",
        "print()\n",
        "\n",
        "print('Classification report for test data:')\n",
        "print(classification_report(y_test, y_pred_test))"
      ],
      "metadata": {
        "colab": {
          "base_uri": "https://localhost:8080/"
        },
        "id": "86IHr_b5_3eV",
        "outputId": "5368a54c-1b7a-4608-ec55-63b6762cba92"
      },
      "execution_count": null,
      "outputs": [
        {
          "output_type": "stream",
          "name": "stdout",
          "text": [
            "Accuracy for training data:\n",
            "0.992850721655471\n",
            "Accuracy for test data:\n",
            "0.9920863829466684\n",
            "\n",
            "Confusion matrix for test data:\n",
            "[[1892247   15055]\n",
            " [    598   70083]]\n",
            "\n",
            "Classification report for test data:\n",
            "              precision    recall  f1-score   support\n",
            "\n",
            "       False       1.00      0.99      1.00   1907302\n",
            "        True       0.82      0.99      0.90     70681\n",
            "\n",
            "    accuracy                           0.99   1977983\n",
            "   macro avg       0.91      0.99      0.95   1977983\n",
            "weighted avg       0.99      0.99      0.99   1977983\n",
            "\n"
          ]
        }
      ]
    },
    {
      "cell_type": "code",
      "source": [
        "# predict probabilities\n",
        "lr_probs = bbc.predict_proba(X_test)\n",
        "# keep probabilities for the positive outcome only\n",
        "lr_probs = lr_probs[:, 1]\n",
        "\n",
        "lr_precision, lr_recall, _ = precision_recall_curve(y_test, lr_probs)\n",
        "lr_f1, lr_auc = f1_score(y_test, y_pred_test), auc(lr_recall, lr_precision)\n",
        "\n",
        "# summarize scores\n",
        "print('Logistic: f1=%.3f auc=%.3f' % (lr_f1, lr_auc))\n",
        "\n",
        "# plot the precision-recall curves\n",
        "no_skill = len(y_test[y_test==1]) / len(y_test)\n",
        "pyplot.plot([0, 1], [no_skill, no_skill], linestyle='--', label='Baseline')\n",
        "pyplot.plot(lr_recall, lr_precision, marker='.', label='BalancedBaggingClassifier')\n",
        "\n",
        "# axis labels\n",
        "pyplot.xlabel('Recall')\n",
        "pyplot.ylabel('Precision')\n",
        "pyplot.title('Area Under the Precision-Recall Curve')\n",
        "# show the legend\n",
        "pyplot.legend()\n",
        "# show the plot\n",
        "pyplot.show()"
      ],
      "metadata": {
        "colab": {
          "base_uri": "https://localhost:8080/",
          "height": 313
        },
        "id": "TahgVAZv_9RM",
        "outputId": "24e22937-5186-4ea3-c079-b9c515fd7b88"
      },
      "execution_count": null,
      "outputs": [
        {
          "output_type": "stream",
          "name": "stdout",
          "text": [
            "Logistic: f1=0.900 auc=0.993\n"
          ]
        },
        {
          "output_type": "display_data",
          "data": {
            "text/plain": [
              "<Figure size 432x288 with 1 Axes>"
            ],
            "image/png": "[encoded data removed]"
          },
          "metadata": {
            "needs_background": "light"
          }
        }
      ]
    }
  ],
  "metadata": {
    "colab": {
      "collapsed_sections": [],
      "name": "Ensemble-BalancedBaggingClassifier.ipynb",
      "provenance": []
    },
    "kernelspec": {
      "display_name": "Python 3",
      "name": "python3"
    },
    "language_info": {
      "name": "python"
    }
  },
  "nbformat": 4,
  "nbformat_minor": 0
}