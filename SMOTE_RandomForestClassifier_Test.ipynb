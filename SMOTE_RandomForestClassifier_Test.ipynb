{
  "cells": [
    {
      "cell_type": "code",
      "execution_count": 1,
      "metadata": {
        "colab": {
          "base_uri": "https://localhost:8080/"
        },
        "id": "CdnDFBRSwbl6",
        "outputId": "a2e707a2-abfd-40da-d03e-95b780dc3886"
      },
      "outputs": [
        {
          "output_type": "stream",
          "name": "stdout",
          "text": [
            "Mounted at /content/drive\n"
          ]
        }
      ],
      "source": [
        "from google.colab import drive\n",
        "drive.mount('/content/drive')\n",
        "\n",
        "#fileDownloaded = drive.CreateFile({'id':'14nPUbtZzmzCBcJx9yPyBIf7KL7BSrV6e'})\n",
        "#fileDownloaded.GetContentFile('train.csv')"
      ]
    },
    {
      "cell_type": "code",
      "execution_count": 2,
      "metadata": {
        "id": "8tTCvR-WwoUD"
      },
      "outputs": [],
      "source": [
        "import numpy as np\n",
        "import pandas as pd\n",
        "import matplotlib.pyplot as plt\n",
        "\n",
        "raw_df = pd.read_csv(\"/content/drive/MyDrive/train.csv\")\n",
        "test_df = pd.read_csv(\"/content/drive/MyDrive/test.csv\")\n",
        "\n",
        "\n",
        "#feature creation\n",
        "raw_df['Date'] = pd.to_datetime(raw_df['Ob'])\n",
        "\n",
        "raw_df['month'] = raw_df['Date'].dt.month\n",
        "raw_df['day'] = raw_df['Date'].dt.day\n",
        "raw_df['hour'] = raw_df['Date'].dt.hour\n",
        "raw_df['year'] = raw_df['Date'].dt.year"
      ]
    },
    {
      "cell_type": "code",
      "execution_count": 3,
      "metadata": {
        "colab": {
          "base_uri": "https://localhost:8080/",
          "height": 423
        },
        "id": "O0Q_CtVFrPrx",
        "outputId": "07fdb3f3-58c2-4024-b8a5-b67ed4ec468c"
      },
      "outputs": [
        {
          "output_type": "execute_result",
          "data": {
            "text/plain": [
              "        Station               Ob   value         measure  R_flag  I_flag  \\\n",
              "0          AURO  3/25/2021 10:37  24.500        temp_wxt       2      -1   \n",
              "1          AURO  7/11/2021 13:22  31.500        temp_wxt       2      -1   \n",
              "2          AURO  7/11/2021 13:23  31.500        temp_wxt       2      -1   \n",
              "3          AURO  7/11/2021 13:24  31.500        temp_wxt       2      -1   \n",
              "4          AURO  7/11/2021 13:25  31.600        temp_wxt       2      -1   \n",
              "...         ...              ...     ...             ...     ...     ...   \n",
              "1856101    WINE  4/21/2021 23:56  -7.890  blackglobetemp       4      -1   \n",
              "1856102    WINE  4/21/2021 23:57  -7.890  blackglobetemp       4      -1   \n",
              "1856103    WINE  4/21/2021 23:58  -7.927  blackglobetemp       4      -1   \n",
              "1856104    WINE  4/21/2021 23:59  -7.927  blackglobetemp       4      -1   \n",
              "1856105    WINE   4/22/2021 0:00  -7.927  blackglobetemp       4      -1   \n",
              "\n",
              "         Z_flag  B_flag  \n",
              "0             2       0  \n",
              "1             0       1  \n",
              "2             0       1  \n",
              "3             0       1  \n",
              "4             0       1  \n",
              "...         ...     ...  \n",
              "1856101      -1      -1  \n",
              "1856102      -1      -1  \n",
              "1856103      -1      -1  \n",
              "1856104      -1      -1  \n",
              "1856105      -1      -1  \n",
              "\n",
              "[1856106 rows x 8 columns]"
            ],
            "text/html": [
              "\n",
              "  <div id=\"df-3de45a69-ae7f-4066-a774-6d7e06e013d2\">\n",
              "    <div class=\"colab-df-container\">\n",
              "      <div>\n",
              "<style scoped>\n",
              "    .dataframe tbody tr th:only-of-type {\n",
              "        vertical-align: middle;\n",
              "    }\n",
              "\n",
              "    .dataframe tbody tr th {\n",
              "        vertical-align: top;\n",
              "    }\n",
              "\n",
              "    .dataframe thead th {\n",
              "        text-align: right;\n",
              "    }\n",
              "</style>\n",
              "<table border=\"1\" class=\"dataframe\">\n",
              "  <thead>\n",
              "    <tr style=\"text-align: right;\">\n",
              "      <th></th>\n",
              "      <th>Station</th>\n",
              "      <th>Ob</th>\n",
              "      <th>value</th>\n",
              "      <th>measure</th>\n",
              "      <th>R_flag</th>\n",
              "      <th>I_flag</th>\n",
              "      <th>Z_flag</th>\n",
              "      <th>B_flag</th>\n",
              "    </tr>\n",
              "  </thead>\n",
              "  <tbody>\n",
              "    <tr>\n",
              "      <th>0</th>\n",
              "      <td>AURO</td>\n",
              "      <td>3/25/2021 10:37</td>\n",
              "      <td>24.500</td>\n",
              "      <td>temp_wxt</td>\n",
              "      <td>2</td>\n",
              "      <td>-1</td>\n",
              "      <td>2</td>\n",
              "      <td>0</td>\n",
              "    </tr>\n",
              "    <tr>\n",
              "      <th>1</th>\n",
              "      <td>AURO</td>\n",
              "      <td>7/11/2021 13:22</td>\n",
              "      <td>31.500</td>\n",
              "      <td>temp_wxt</td>\n",
              "      <td>2</td>\n",
              "      <td>-1</td>\n",
              "      <td>0</td>\n",
              "      <td>1</td>\n",
              "    </tr>\n",
              "    <tr>\n",
              "      <th>2</th>\n",
              "      <td>AURO</td>\n",
              "      <td>7/11/2021 13:23</td>\n",
              "      <td>31.500</td>\n",
              "      <td>temp_wxt</td>\n",
              "      <td>2</td>\n",
              "      <td>-1</td>\n",
              "      <td>0</td>\n",
              "      <td>1</td>\n",
              "    </tr>\n",
              "    <tr>\n",
              "      <th>3</th>\n",
              "      <td>AURO</td>\n",
              "      <td>7/11/2021 13:24</td>\n",
              "      <td>31.500</td>\n",
              "      <td>temp_wxt</td>\n",
              "      <td>2</td>\n",
              "      <td>-1</td>\n",
              "      <td>0</td>\n",
              "      <td>1</td>\n",
              "    </tr>\n",
              "    <tr>\n",
              "      <th>4</th>\n",
              "      <td>AURO</td>\n",
              "      <td>7/11/2021 13:25</td>\n",
              "      <td>31.600</td>\n",
              "      <td>temp_wxt</td>\n",
              "      <td>2</td>\n",
              "      <td>-1</td>\n",
              "      <td>0</td>\n",
              "      <td>1</td>\n",
              "    </tr>\n",
              "    <tr>\n",
              "      <th>...</th>\n",
              "      <td>...</td>\n",
              "      <td>...</td>\n",
              "      <td>...</td>\n",
              "      <td>...</td>\n",
              "      <td>...</td>\n",
              "      <td>...</td>\n",
              "      <td>...</td>\n",
              "      <td>...</td>\n",
              "    </tr>\n",
              "    <tr>\n",
              "      <th>1856101</th>\n",
              "      <td>WINE</td>\n",
              "      <td>4/21/2021 23:56</td>\n",
              "      <td>-7.890</td>\n",
              "      <td>blackglobetemp</td>\n",
              "      <td>4</td>\n",
              "      <td>-1</td>\n",
              "      <td>-1</td>\n",
              "      <td>-1</td>\n",
              "    </tr>\n",
              "    <tr>\n",
              "      <th>1856102</th>\n",
              "      <td>WINE</td>\n",
              "      <td>4/21/2021 23:57</td>\n",
              "      <td>-7.890</td>\n",
              "      <td>blackglobetemp</td>\n",
              "      <td>4</td>\n",
              "      <td>-1</td>\n",
              "      <td>-1</td>\n",
              "      <td>-1</td>\n",
              "    </tr>\n",
              "    <tr>\n",
              "      <th>1856103</th>\n",
              "      <td>WINE</td>\n",
              "      <td>4/21/2021 23:58</td>\n",
              "      <td>-7.927</td>\n",
              "      <td>blackglobetemp</td>\n",
              "      <td>4</td>\n",
              "      <td>-1</td>\n",
              "      <td>-1</td>\n",
              "      <td>-1</td>\n",
              "    </tr>\n",
              "    <tr>\n",
              "      <th>1856104</th>\n",
              "      <td>WINE</td>\n",
              "      <td>4/21/2021 23:59</td>\n",
              "      <td>-7.927</td>\n",
              "      <td>blackglobetemp</td>\n",
              "      <td>4</td>\n",
              "      <td>-1</td>\n",
              "      <td>-1</td>\n",
              "      <td>-1</td>\n",
              "    </tr>\n",
              "    <tr>\n",
              "      <th>1856105</th>\n",
              "      <td>WINE</td>\n",
              "      <td>4/22/2021 0:00</td>\n",
              "      <td>-7.927</td>\n",
              "      <td>blackglobetemp</td>\n",
              "      <td>4</td>\n",
              "      <td>-1</td>\n",
              "      <td>-1</td>\n",
              "      <td>-1</td>\n",
              "    </tr>\n",
              "  </tbody>\n",
              "</table>\n",
              "<p>1856106 rows × 8 columns</p>\n",
              "</div>\n",
              "      <button class=\"colab-df-convert\" onclick=\"convertToInteractive('df-3de45a69-ae7f-4066-a774-6d7e06e013d2')\"\n",
              "              title=\"Convert this dataframe to an interactive table.\"\n",
              "              style=\"display:none;\">\n",
              "        \n",
              "  <svg xmlns=\"http://www.w3.org/2000/svg\" height=\"24px\"viewBox=\"0 0 24 24\"\n",
              "       width=\"24px\">\n",
              "    <path d=\"M0 0h24v24H0V0z\" fill=\"none\"/>\n",
              "    <path d=\"M18.56 5.44l.94 2.06.94-2.06 2.06-.94-2.06-.94-.94-2.06-.94 2.06-2.06.94zm-11 1L8.5 8.5l.94-2.06 2.06-.94-2.06-.94L8.5 2.5l-.94 2.06-2.06.94zm10 10l.94 2.06.94-2.06 2.06-.94-2.06-.94-.94-2.06-.94 2.06-2.06.94z\"/><path d=\"M17.41 7.96l-1.37-1.37c-.4-.4-.92-.59-1.43-.59-.52 0-1.04.2-1.43.59L10.3 9.45l-7.72 7.72c-.78.78-.78 2.05 0 2.83L4 21.41c.39.39.9.59 1.41.59.51 0 1.02-.2 1.41-.59l7.78-7.78 2.81-2.81c.8-.78.8-2.07 0-2.86zM5.41 20L4 18.59l7.72-7.72 1.47 1.35L5.41 20z\"/>\n",
              "  </svg>\n",
              "      </button>\n",
              "      \n",
              "  <style>\n",
              "    .colab-df-container {\n",
              "      display:flex;\n",
              "      flex-wrap:wrap;\n",
              "      gap: 12px;\n",
              "    }\n",
              "\n",
              "    .colab-df-convert {\n",
              "      background-color: #E8F0FE;\n",
              "      border: none;\n",
              "      border-radius: 50%;\n",
              "      cursor: pointer;\n",
              "      display: none;\n",
              "      fill: #1967D2;\n",
              "      height: 32px;\n",
              "      padding: 0 0 0 0;\n",
              "      width: 32px;\n",
              "    }\n",
              "\n",
              "    .colab-df-convert:hover {\n",
              "      background-color: #E2EBFA;\n",
              "      box-shadow: 0px 1px 2px rgba(60, 64, 67, 0.3), 0px 1px 3px 1px rgba(60, 64, 67, 0.15);\n",
              "      fill: #174EA6;\n",
              "    }\n",
              "\n",
              "    [theme=dark] .colab-df-convert {\n",
              "      background-color: #3B4455;\n",
              "      fill: #D2E3FC;\n",
              "    }\n",
              "\n",
              "    [theme=dark] .colab-df-convert:hover {\n",
              "      background-color: #434B5C;\n",
              "      box-shadow: 0px 1px 3px 1px rgba(0, 0, 0, 0.15);\n",
              "      filter: drop-shadow(0px 1px 2px rgba(0, 0, 0, 0.3));\n",
              "      fill: #FFFFFF;\n",
              "    }\n",
              "  </style>\n",
              "\n",
              "      <script>\n",
              "        const buttonEl =\n",
              "          document.querySelector('#df-3de45a69-ae7f-4066-a774-6d7e06e013d2 button.colab-df-convert');\n",
              "        buttonEl.style.display =\n",
              "          google.colab.kernel.accessAllowed ? 'block' : 'none';\n",
              "\n",
              "        async function convertToInteractive(key) {\n",
              "          const element = document.querySelector('#df-3de45a69-ae7f-4066-a774-6d7e06e013d2');\n",
              "          const dataTable =\n",
              "            await google.colab.kernel.invokeFunction('convertToInteractive',\n",
              "                                                     [key], {});\n",
              "          if (!dataTable) return;\n",
              "\n",
              "          const docLinkHtml = 'Like what you see? Visit the ' +\n",
              "            '<a target=\"_blank\" href=https://colab.research.google.com/notebooks/data_table.ipynb>data table notebook</a>'\n",
              "            + ' to learn more about interactive tables.';\n",
              "          element.innerHTML = '';\n",
              "          dataTable['output_type'] = 'display_data';\n",
              "          await google.colab.output.renderOutput(dataTable, element);\n",
              "          const docLink = document.createElement('div');\n",
              "          docLink.innerHTML = docLinkHtml;\n",
              "          element.appendChild(docLink);\n",
              "        }\n",
              "      </script>\n",
              "    </div>\n",
              "  </div>\n",
              "  "
            ]
          },
          "metadata": {},
          "execution_count": 3
        }
      ],
      "source": [
        "y = raw_df.target\n",
        "X = raw_df.drop(['target','Ob','Date'], axis=1)\n",
        "X\n",
        "test_df"
      ]
    },
    {
      "cell_type": "code",
      "execution_count": 4,
      "metadata": {
        "colab": {
          "base_uri": "https://localhost:8080/",
          "height": 303
        },
        "id": "utbYckF63gow",
        "outputId": "576f83bc-0a2d-4d41-ed5c-459f862f444b"
      },
      "outputs": [
        {
          "output_type": "stream",
          "name": "stdout",
          "text": [
            "Counter({False: 6358102, True: 235172})\n",
            "dict_items([(False, 6358102), (True, 235172)])\n"
          ]
        },
        {
          "output_type": "display_data",
          "data": {
            "text/plain": [
              "<Figure size 432x288 with 1 Axes>"
            ],
            "image/png": "[encoded data removed]"
          },
          "metadata": {
            "needs_background": "light"
          }
        }
      ],
      "source": [
        "\n",
        "# Generate and plot a synthetic imbalanced classification dataset\n",
        "from collections import Counter\n",
        "from matplotlib import pyplot\n",
        "from numpy import where\n",
        "\n",
        "counter = Counter(y)\n",
        "print(counter)\n",
        "# scatter plot - value, measure, target\n",
        "print(counter.items())\n",
        "\n",
        "pyplot.scatter\n",
        "for label, _ in counter.items():\n",
        "\trow_ix = where(y == label)[0]\n",
        "\tpyplot.scatter( X.iloc[row_ix, 2], X.iloc[row_ix, 3], label=str(label))\n",
        "pyplot.legend()\n",
        "pyplot.show()"
      ]
    },
    {
      "cell_type": "code",
      "execution_count": 5,
      "metadata": {
        "colab": {
          "base_uri": "https://localhost:8080/",
          "height": 382
        },
        "id": "_E7nF3bq1aPd",
        "outputId": "03b3ea7c-9415-4999-9c58-5ef91617af45"
      },
      "outputs": [
        {
          "output_type": "stream",
          "name": "stderr",
          "text": [
            "/usr/local/lib/python3.7/dist-packages/seaborn/_decorators.py:43: FutureWarning: Pass the following variable as a keyword arg: x. From version 0.12, the only valid positional argument will be `data`, and passing other arguments without an explicit keyword will result in an error or misinterpretation.\n",
            "  FutureWarning\n"
          ]
        },
        {
          "output_type": "execute_result",
          "data": {
            "text/plain": [
              "False    6358102\n",
              "True      235172\n",
              "Name: target, dtype: int64"
            ]
          },
          "metadata": {},
          "execution_count": 5
        },
        {
          "output_type": "display_data",
          "data": {
            "text/plain": [
              "<Figure size 432x288 with 1 Axes>"
            ],
            "image/png": "[encoded data removed]"
          },
          "metadata": {
            "needs_background": "light"
          }
        }
      ],
      "source": [
        "import seaborn as sns\n",
        "\n",
        "sns.countplot(raw_df['target'])\n",
        "y.value_counts()\n"
      ]
    },
    {
      "cell_type": "code",
      "execution_count": 6,
      "metadata": {
        "id": "7zVE2zNqMbmW"
      },
      "outputs": [],
      "source": [
        "from sklearn.model_selection import train_test_split\n",
        "from sklearn.ensemble import RandomForestClassifier\n",
        "\n",
        "X_train, X_test, y_train, y_test = train_test_split(X.drop(['Station','measure'], axis=1), y, train_size=0.8, random_state=123)\n"
      ]
    },
    {
      "cell_type": "code",
      "execution_count": 7,
      "metadata": {
        "id": "NthIWCAG3rtC",
        "colab": {
          "base_uri": "https://localhost:8080/",
          "height": 382
        },
        "outputId": "cc984d97-2f57-433d-ef7b-f1cf591362a1"
      },
      "outputs": [
        {
          "output_type": "stream",
          "name": "stderr",
          "text": [
            "/usr/local/lib/python3.7/dist-packages/seaborn/_decorators.py:43: FutureWarning: Pass the following variable as a keyword arg: x. From version 0.12, the only valid positional argument will be `data`, and passing other arguments without an explicit keyword will result in an error or misinterpretation.\n",
            "  FutureWarning\n"
          ]
        },
        {
          "output_type": "stream",
          "name": "stdout",
          "text": [
            "False    5086539\n",
            "True     5086539\n",
            "Name: target, dtype: int64\n"
          ]
        },
        {
          "output_type": "display_data",
          "data": {
            "text/plain": [
              "<Figure size 432x288 with 1 Axes>"
            ],
            "image/png": "[encoded data removed]"
          },
          "metadata": {
            "needs_background": "light"
          }
        }
      ],
      "source": [
        "from imblearn.over_sampling import SMOTE\n",
        "import seaborn as sns\n",
        "\n",
        "sm = SMOTE(sampling_strategy='minority', random_state=7)\n",
        "\n",
        "oversampled_trainX, oversampled_trainY = sm.fit_resample(X_train, y_train)\n",
        "oversampled_train = pd.concat([pd.DataFrame(oversampled_trainY), pd.DataFrame(oversampled_trainX)], axis=1)\n",
        "\n",
        "sns.countplot(oversampled_train['target'])\n",
        "print(oversampled_train['target'].value_counts())\n"
      ]
    },
    {
      "cell_type": "code",
      "execution_count": 8,
      "metadata": {
        "id": "QhodOhE4RVK1"
      },
      "outputs": [],
      "source": [
        "from sklearn.ensemble import RandomForestClassifier\n",
        "\n",
        "classifier = RandomForestClassifier()\n",
        "classifier.fit(oversampled_trainX, oversampled_trainY)\n",
        "\n",
        "pred_train = classifier.predict(X_train)\n",
        "pred_test = classifier.predict(X_test)\n"
      ]
    },
    {
      "cell_type": "code",
      "execution_count": 9,
      "metadata": {
        "colab": {
          "base_uri": "https://localhost:8080/"
        },
        "id": "lJvYXAfyZ3Lx",
        "outputId": "3de6989c-832d-4080-f668-2c7fb1664407"
      },
      "outputs": [
        {
          "output_type": "stream",
          "name": "stdout",
          "text": [
            "Accuracy for training data\n",
            "0.9993112298727169\n",
            "Accuracy for test data\n",
            "0.996179440414665\n",
            "\n",
            "Confusion matrix for test data\n",
            "[[1267787    3776]\n",
            " [   1262   45830]]\n",
            "\n",
            "Classification report for test data\n",
            "              precision    recall  f1-score   support\n",
            "\n",
            "       False       1.00      1.00      1.00   1271563\n",
            "        True       0.92      0.97      0.95     47092\n",
            "\n",
            "    accuracy                           1.00   1318655\n",
            "   macro avg       0.96      0.99      0.97   1318655\n",
            "weighted avg       1.00      1.00      1.00   1318655\n",
            "\n"
          ]
        }
      ],
      "source": [
        "from sklearn.metrics import accuracy_score\n",
        "from sklearn.metrics import classification_report\n",
        "from sklearn.metrics import confusion_matrix\n",
        "\n",
        "print('Accuracy for training data')\n",
        "print(accuracy_score(y_train, pred_train))\n",
        "print('Accuracy for test data')\n",
        "print(accuracy_score(y_test, pred_test))\n",
        "print()\n",
        "print('Confusion matrix for test data')\n",
        "print(confusion_matrix(y_test, pred_test))\n",
        "print()\n",
        "print('Classification report for test data')\n",
        "print(classification_report(y_test, pred_test))\n"
      ]
    },
    {
      "cell_type": "code",
      "execution_count": 11,
      "metadata": {
        "colab": {
          "base_uri": "https://localhost:8080/",
          "height": 297
        },
        "id": "MZbVgszfc4w7",
        "outputId": "2ce413d1-74ef-4311-a178-31675636e2f9"
      },
      "outputs": [
        {
          "output_type": "stream",
          "name": "stdout",
          "text": [
            "Logistic: f1=0.948 auc=0.988\n"
          ]
        },
        {
          "output_type": "display_data",
          "data": {
            "text/plain": [
              "<Figure size 432x288 with 1 Axes>"
            ],
            "image/png": "[encoded data removed]"
          },
          "metadata": {
            "needs_background": "light"
          }
        }
      ],
      "source": [
        "from sklearn.metrics import precision_recall_curve\n",
        "from sklearn.metrics import f1_score\n",
        "from sklearn.metrics import auc\n",
        "from matplotlib import pyplot\n",
        "\n",
        "# predict probabilities\n",
        "lr_probs = classifier.predict_proba(X_test)\n",
        "# keep probabilities for the positive outcome only\n",
        "lr_probs = lr_probs[:, 1]\n",
        "\n",
        "lr_precision, lr_recall, _ = precision_recall_curve(y_test, lr_probs)\n",
        "lr_f1, lr_auc = f1_score(y_test, pred_test), auc(lr_recall, lr_precision)\n",
        "# summarize scores\n",
        "print('Logistic: f1=%.3f auc=%.3f' % (lr_f1, lr_auc))\n",
        "# plot the precision-recall curves\n",
        "no_skill = len(y_test[y_test==1]) / len(y_test)\n",
        "pyplot.plot([0, 1], [no_skill, no_skill], linestyle='--', label='Baseline')\n",
        "pyplot.plot(lr_recall, lr_precision, marker='.', label='SMOTE and RandomForestClassifier')\n",
        "# axis labels\n",
        "pyplot.xlabel('Recall')\n",
        "pyplot.ylabel('Precision')\n",
        "# show the legend\n",
        "pyplot.legend()\n",
        "# show the plot\n",
        "pyplot.show()"
      ]
    },
    {
      "cell_type": "code",
      "source": [
        "# Test feature creation\n",
        "test_df['Date'] = pd.to_datetime(test_df['Ob'])\n",
        "\n",
        "test_df['month'] = test_df['Date'].dt.month\n",
        "test_df['day'] = test_df['Date'].dt.day\n",
        "test_df['hour'] = test_df['Date'].dt.hour\n",
        "test_df['year'] = test_df['Date'].dt.year"
      ],
      "metadata": {
        "id": "IiM3ZjYELQ43"
      },
      "execution_count": null,
      "outputs": []
    },
    {
      "cell_type": "code",
      "source": [
        "test_data = test_df.drop(['Ob','Date','Station','measure'], axis=1)\n",
        "actual_test = classifier.predict_proba(test_data)"
      ],
      "metadata": {
        "id": "pverZafqLii6"
      },
      "execution_count": null,
      "outputs": []
    },
    {
      "cell_type": "code",
      "source": [
        "pd.DataFrame(actual_test[:,1], columns=['target']).to_csv('/content/drive/MyDrive/predictions.csv', index=False)"
      ],
      "metadata": {
        "id": "8guq-uL0NBxG"
      },
      "execution_count": null,
      "outputs": []
    }
  ],
  "metadata": {
    "colab": {
      "collapsed_sections": [],
      "name": "SMOTE_RandomForestClassifier_Test.ipynb",
      "provenance": []
    },
    "kernelspec": {
      "display_name": "Python 3",
      "name": "python3"
    },
    "language_info": {
      "name": "python"
    }
  },
  "nbformat": 4,
  "nbformat_minor": 0
}